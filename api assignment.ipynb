{
 "cells": [
  {
   "cell_type": "code",
   "execution_count": 1,
   "id": "c8b0b4b6-54b3-457c-a764-91560586e25d",
   "metadata": {},
   "outputs": [],
   "source": [
    "#Question 1"
   ]
  },
  {
   "cell_type": "code",
   "execution_count": 2,
   "id": "10e876a5-d673-41cf-b0e1-25b2bbcda44b",
   "metadata": {},
   "outputs": [],
   "source": [
    "#An API is a communication interface that allows two separate software components to share data.\n",
    "#example - phonepe, like checking in with a social networking site, is done via APIs to ensure that the end application can only do what it needs to accomplish without being exposed to sensitive data or gaining access to unwelcome privileges."
   ]
  },
  {
   "cell_type": "code",
   "execution_count": 3,
   "id": "c26ef2d3-b935-414c-b609-4556d977523a",
   "metadata": {},
   "outputs": [],
   "source": [
    "#Question 2"
   ]
  },
  {
   "cell_type": "code",
   "execution_count": 4,
   "id": "d4b8db87-eeb1-49e9-a0b4-7588a86fdb4c",
   "metadata": {},
   "outputs": [],
   "source": [
    "#Advantages are - automation,developer efficiency and improved valued prpotion.\n",
    "#Disadvatages are - Vulnerable attacks and data breaches "
   ]
  },
  {
   "cell_type": "code",
   "execution_count": 5,
   "id": "3b7d6fef-4f98-4d22-aaad-a48361a3542e",
   "metadata": {},
   "outputs": [],
   "source": [
    "#Question 3"
   ]
  },
  {
   "cell_type": "code",
   "execution_count": 6,
   "id": "4d214e32-eb2f-4536-ac47-f572a0245ea5",
   "metadata": {},
   "outputs": [],
   "source": [
    "#web API is a programmatic interface to extend functionality within a web browser."
   ]
  },
  {
   "cell_type": "code",
   "execution_count": 7,
   "id": "b5ef52ad-739f-41ce-8b4a-8a485de4bd8a",
   "metadata": {},
   "outputs": [],
   "source": [
    "#a) Web API require SOAP and XML to transfer data over a network while API can use any protocols or design patterns.\n",
    "#b) API are more efficient and offering a more light-weight architecture while web API are heavy.\n",
    "#c) Web API only support HTTP as a backbone, while API are more flexible."
   ]
  },
  {
   "cell_type": "code",
   "execution_count": 8,
   "id": "8a900e96-84c9-446e-a062-4cf4dc8d7640",
   "metadata": {},
   "outputs": [],
   "source": [
    "#Question 4"
   ]
  },
  {
   "cell_type": "code",
   "execution_count": 16,
   "id": "d40dfb4a-7a96-47cb-8808-f4e4d9025bb3",
   "metadata": {},
   "outputs": [],
   "source": [
    "#REST (Representational State Transfer) is an architectural approach for communication purposes often used in various web services development. It is a stateless client-server model.\n",
    "#SOAP (Simple Object Access Protocol) is an XML-based protocol for accessing web services over HTTP. It is developed as an intermediate language so that applications built in various programming languages can communicate with each other effectively. "
   ]
  },
  {
   "cell_type": "code",
   "execution_count": 11,
   "id": "58d90545-ce2c-4404-8d6b-d78e3e99a7d6",
   "metadata": {},
   "outputs": [],
   "source": [
    "#Disadvantages of SOAP are - 1) slower 2)does not support caching 3) complexity"
   ]
  },
  {
   "cell_type": "code",
   "execution_count": 12,
   "id": "6867acf8-a4aa-411e-8f18-f35593e6d69b",
   "metadata": {},
   "outputs": [],
   "source": [
    "#Question 5"
   ]
  },
  {
   "cell_type": "code",
   "execution_count": 13,
   "id": "78c60150-90f6-4b8c-b67f-0915147fd0ba",
   "metadata": {},
   "outputs": [],
   "source": [
    "#REST - \n",
    "#It stands for Representational State Transfer.REST is an architecture style for designing communication interfaces.REST supports XML, JSON, plain text, HTML.REST has faster performance due to smaller messages and caching support."
   ]
  },
  {
   "cell_type": "code",
   "execution_count": 14,
   "id": "1f04b243-0a11-40c5-becd-65ae21e65ed3",
   "metadata": {},
   "outputs": [],
   "source": [
    "#SOAP - \n",
    "#It stands for Simple Object Access Protocol.SOAP is a protocol for communication between applications.SOAP supports only XML data exchange.SOAP messages are larger, which makes communication slower."
   ]
  },
  {
   "cell_type": "code",
   "execution_count": null,
   "id": "f5529fbb-86f0-4eeb-bc8d-ec2437a9345b",
   "metadata": {},
   "outputs": [],
   "source": []
  }
 ],
 "metadata": {
  "kernelspec": {
   "display_name": "Python 3 (ipykernel)",
   "language": "python",
   "name": "python3"
  },
  "language_info": {
   "codemirror_mode": {
    "name": "ipython",
    "version": 3
   },
   "file_extension": ".py",
   "mimetype": "text/x-python",
   "name": "python",
   "nbconvert_exporter": "python",
   "pygments_lexer": "ipython3",
   "version": "3.10.8"
  }
 },
 "nbformat": 4,
 "nbformat_minor": 5
}
